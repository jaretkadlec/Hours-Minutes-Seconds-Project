{
 "cells": [
  {
   "cell_type": "code",
   "execution_count": null,
   "metadata": {},
   "outputs": [],
   "source": [
    "import math\n",
    "seconds = input(9999)\n",
    "print('Enter the number in seconds:', seconds)\n",
    "hours = seconds / 3600\n",
    "hours1 = seconds // 3600\n",
    "print('Hours:', hours1)\n",
    "minutes1 = (hours - hours1) * 60\n",
    "print('Minutes:', math.floor(minutes1))\n",
    "minutes = (hours - hours1) * 60\n",
    "seconds = (minutes - math.floor(minutes1)) * 60\n",
    "print('Seconds:', math.ceil(seconds))"
   ]
  }
 ],
 "metadata": {
  "kernelspec": {
   "display_name": "Python 3 (ipykernel)",
   "language": "python",
   "name": "python3"
  },
  "language_info": {
   "codemirror_mode": {
    "name": "ipython",
    "version": 3
   },
   "file_extension": ".py",
   "mimetype": "text/x-python",
   "name": "python",
   "nbconvert_exporter": "python",
   "pygments_lexer": "ipython3",
   "version": "3.9.12"
  }
 },
 "nbformat": 4,
 "nbformat_minor": 2
}
